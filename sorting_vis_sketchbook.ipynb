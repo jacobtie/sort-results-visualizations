{
 "cells": [
  {
   "cell_type": "code",
   "execution_count": 47,
   "metadata": {},
   "outputs": [],
   "source": [
    "import pandas as pd"
   ]
  },
  {
   "cell_type": "code",
   "execution_count": 48,
   "metadata": {},
   "outputs": [],
   "source": [
    "data_raw = pd.read_csv('sorting_results.csv')"
   ]
  },
  {
   "cell_type": "code",
   "execution_count": 49,
   "metadata": {},
   "outputs": [
    {
     "data": {
      "text/html": [
       "<div>\n",
       "<style scoped>\n",
       "    .dataframe tbody tr th:only-of-type {\n",
       "        vertical-align: middle;\n",
       "    }\n",
       "\n",
       "    .dataframe tbody tr th {\n",
       "        vertical-align: top;\n",
       "    }\n",
       "\n",
       "    .dataframe thead th {\n",
       "        text-align: right;\n",
       "    }\n",
       "</style>\n",
       "<table border=\"1\" class=\"dataframe\">\n",
       "  <thead>\n",
       "    <tr style=\"text-align: right;\">\n",
       "      <th></th>\n",
       "      <th>Iteration</th>\n",
       "      <th>NumElements</th>\n",
       "      <th>InsertionSortTime</th>\n",
       "      <th>MergeSortTime</th>\n",
       "      <th>HeapSortTime</th>\n",
       "      <th>QuickSortInPlaceTime</th>\n",
       "      <th>QuickSortModifiedTime</th>\n",
       "    </tr>\n",
       "  </thead>\n",
       "  <tbody>\n",
       "    <tr>\n",
       "      <td>0</td>\n",
       "      <td>1</td>\n",
       "      <td>10</td>\n",
       "      <td>0</td>\n",
       "      <td>0</td>\n",
       "      <td>2</td>\n",
       "      <td>0</td>\n",
       "      <td>0</td>\n",
       "    </tr>\n",
       "    <tr>\n",
       "      <td>1</td>\n",
       "      <td>1</td>\n",
       "      <td>100</td>\n",
       "      <td>0</td>\n",
       "      <td>0</td>\n",
       "      <td>0</td>\n",
       "      <td>0</td>\n",
       "      <td>0</td>\n",
       "    </tr>\n",
       "    <tr>\n",
       "      <td>2</td>\n",
       "      <td>1</td>\n",
       "      <td>1000</td>\n",
       "      <td>6</td>\n",
       "      <td>0</td>\n",
       "      <td>0</td>\n",
       "      <td>1</td>\n",
       "      <td>2</td>\n",
       "    </tr>\n",
       "    <tr>\n",
       "      <td>3</td>\n",
       "      <td>1</td>\n",
       "      <td>1500</td>\n",
       "      <td>9</td>\n",
       "      <td>0</td>\n",
       "      <td>0</td>\n",
       "      <td>2</td>\n",
       "      <td>8</td>\n",
       "    </tr>\n",
       "    <tr>\n",
       "      <td>4</td>\n",
       "      <td>1</td>\n",
       "      <td>2000</td>\n",
       "      <td>19</td>\n",
       "      <td>0</td>\n",
       "      <td>1</td>\n",
       "      <td>3</td>\n",
       "      <td>3</td>\n",
       "    </tr>\n",
       "    <tr>\n",
       "      <td>...</td>\n",
       "      <td>...</td>\n",
       "      <td>...</td>\n",
       "      <td>...</td>\n",
       "      <td>...</td>\n",
       "      <td>...</td>\n",
       "      <td>...</td>\n",
       "      <td>...</td>\n",
       "    </tr>\n",
       "    <tr>\n",
       "      <td>95</td>\n",
       "      <td>5</td>\n",
       "      <td>30000</td>\n",
       "      <td>3584</td>\n",
       "      <td>7</td>\n",
       "      <td>23</td>\n",
       "      <td>47</td>\n",
       "      <td>47</td>\n",
       "    </tr>\n",
       "    <tr>\n",
       "      <td>96</td>\n",
       "      <td>5</td>\n",
       "      <td>35000</td>\n",
       "      <td>4855</td>\n",
       "      <td>8</td>\n",
       "      <td>27</td>\n",
       "      <td>54</td>\n",
       "      <td>63</td>\n",
       "    </tr>\n",
       "    <tr>\n",
       "      <td>97</td>\n",
       "      <td>5</td>\n",
       "      <td>40000</td>\n",
       "      <td>6362</td>\n",
       "      <td>10</td>\n",
       "      <td>32</td>\n",
       "      <td>62</td>\n",
       "      <td>62</td>\n",
       "    </tr>\n",
       "    <tr>\n",
       "      <td>98</td>\n",
       "      <td>5</td>\n",
       "      <td>45000</td>\n",
       "      <td>8269</td>\n",
       "      <td>11</td>\n",
       "      <td>36</td>\n",
       "      <td>71</td>\n",
       "      <td>71</td>\n",
       "    </tr>\n",
       "    <tr>\n",
       "      <td>99</td>\n",
       "      <td>5</td>\n",
       "      <td>50000</td>\n",
       "      <td>9903</td>\n",
       "      <td>12</td>\n",
       "      <td>40</td>\n",
       "      <td>80</td>\n",
       "      <td>77</td>\n",
       "    </tr>\n",
       "  </tbody>\n",
       "</table>\n",
       "<p>100 rows × 7 columns</p>\n",
       "</div>"
      ],
      "text/plain": [
       "    Iteration  NumElements  InsertionSortTime  MergeSortTime  HeapSortTime  \\\n",
       "0           1           10                  0              0             2   \n",
       "1           1          100                  0              0             0   \n",
       "2           1         1000                  6              0             0   \n",
       "3           1         1500                  9              0             0   \n",
       "4           1         2000                 19              0             1   \n",
       "..        ...          ...                ...            ...           ...   \n",
       "95          5        30000               3584              7            23   \n",
       "96          5        35000               4855              8            27   \n",
       "97          5        40000               6362             10            32   \n",
       "98          5        45000               8269             11            36   \n",
       "99          5        50000               9903             12            40   \n",
       "\n",
       "    QuickSortInPlaceTime  QuickSortModifiedTime  \n",
       "0                      0                      0  \n",
       "1                      0                      0  \n",
       "2                      1                      2  \n",
       "3                      2                      8  \n",
       "4                      3                      3  \n",
       "..                   ...                    ...  \n",
       "95                    47                     47  \n",
       "96                    54                     63  \n",
       "97                    62                     62  \n",
       "98                    71                     71  \n",
       "99                    80                     77  \n",
       "\n",
       "[100 rows x 7 columns]"
      ]
     },
     "execution_count": 49,
     "metadata": {},
     "output_type": "execute_result"
    }
   ],
   "source": [
    "data_raw.head(100)"
   ]
  },
  {
   "cell_type": "code",
   "execution_count": 50,
   "metadata": {},
   "outputs": [],
   "source": [
    "unique_num_elements = data_raw['NumElements'].unique()"
   ]
  },
  {
   "cell_type": "code",
   "execution_count": 51,
   "metadata": {},
   "outputs": [
    {
     "data": {
      "text/plain": [
       "array([   10,   100,  1000,  1500,  2000,  2500,  4000,  4500,  5000,\n",
       "        7500, 10000, 12500, 15000, 20000, 25000, 30000, 35000, 40000,\n",
       "       45000, 50000], dtype=int64)"
      ]
     },
     "execution_count": 51,
     "metadata": {},
     "output_type": "execute_result"
    }
   ],
   "source": [
    "unique_num_elements"
   ]
  },
  {
   "cell_type": "code",
   "execution_count": 52,
   "metadata": {},
   "outputs": [
    {
     "data": {
      "text/plain": [
       "20"
      ]
     },
     "execution_count": 52,
     "metadata": {},
     "output_type": "execute_result"
    }
   ],
   "source": [
    "len(unique_num_elements)"
   ]
  },
  {
   "cell_type": "code",
   "execution_count": 53,
   "metadata": {},
   "outputs": [
    {
     "name": "stdout",
     "output_type": "stream",
     "text": [
      "[[10, 0.0, 0.0, 0.4, 0.0, 0.0], [100, 0.0, 0.0, 0.0, 0.0, 0.0], [1000, 4.4, 0.0, 0.0, 1.0, 1.2], [1500, 9.6, 0.0, 0.0, 2.8, 3.6], [2000, 17.0, 0.0, 1.0, 3.0, 3.0], [2500, 25.2, 0.0, 1.0, 4.0, 4.0], [4000, 63.8, 0.0, 2.0, 6.0, 6.2], [4500, 81.0, 1.0, 2.0, 7.0, 7.0], [5000, 101.0, 1.0, 3.8, 10.0, 9.6], [7500, 225.8, 1.0, 5.0, 12.2, 14.2], [10000, 397.0, 2.0, 6.6, 16.8, 16.0], [12500, 622.0, 3.0, 9.8, 20.0, 20.0], [15000, 890.2, 3.0, 10.6, 24.0, 24.4], [20000, 1593.2, 5.4, 14.8, 31.4, 31.2], [25000, 2516.8, 6.0, 19.0, 39.2, 40.4], [30000, 3597.0, 7.0, 22.8, 46.8, 47.0], [35000, 4883.8, 8.2, 27.2, 56.2, 58.2], [40000, 6369.6, 10.0, 32.4, 61.8, 62.0], [45000, 8073.0, 11.6, 36.2, 70.2, 70.2], [50000, 9918.4, 12.6, 42.2, 78.2, 78.6]]\n"
     ]
    }
   ],
   "source": [
    "avg_data_rows = []\n",
    "for u_elem in unique_num_elements:\n",
    "    data = [u_elem]\n",
    "    filtered_rows = data_raw[data_raw['NumElements'] == u_elem]\n",
    "    data.append(filtered_rows['InsertionSortTime'].mean())\n",
    "    data.append(filtered_rows['MergeSortTime'].mean())\n",
    "    data.append(filtered_rows['HeapSortTime'].mean())\n",
    "    data.append(filtered_rows['QuickSortInPlaceTime'].mean())\n",
    "    data.append(filtered_rows['QuickSortModifiedTime'].mean())\n",
    "    avg_data_rows.append(data)\n",
    "print(avg_data_rows)"
   ]
  },
  {
   "cell_type": "code",
   "execution_count": 54,
   "metadata": {},
   "outputs": [],
   "source": [
    "data_avg = pd.DataFrame(avg_data_rows, columns=['NumElements', 'Insertion Sort', 'Merge Sort', 'Heap Sort', 'Quick Sort In Place', 'Quick Sort Modified'])"
   ]
  },
  {
   "cell_type": "code",
   "execution_count": 55,
   "metadata": {},
   "outputs": [
    {
     "data": {
      "text/html": [
       "<div>\n",
       "<style scoped>\n",
       "    .dataframe tbody tr th:only-of-type {\n",
       "        vertical-align: middle;\n",
       "    }\n",
       "\n",
       "    .dataframe tbody tr th {\n",
       "        vertical-align: top;\n",
       "    }\n",
       "\n",
       "    .dataframe thead th {\n",
       "        text-align: right;\n",
       "    }\n",
       "</style>\n",
       "<table border=\"1\" class=\"dataframe\">\n",
       "  <thead>\n",
       "    <tr style=\"text-align: right;\">\n",
       "      <th></th>\n",
       "      <th>NumElements</th>\n",
       "      <th>Insertion Sort</th>\n",
       "      <th>Merge Sort</th>\n",
       "      <th>Heap Sort</th>\n",
       "      <th>Quick Sort In Place</th>\n",
       "      <th>Quick Sort Modified</th>\n",
       "    </tr>\n",
       "  </thead>\n",
       "  <tbody>\n",
       "    <tr>\n",
       "      <td>0</td>\n",
       "      <td>10</td>\n",
       "      <td>0.0</td>\n",
       "      <td>0.0</td>\n",
       "      <td>0.4</td>\n",
       "      <td>0.0</td>\n",
       "      <td>0.0</td>\n",
       "    </tr>\n",
       "    <tr>\n",
       "      <td>1</td>\n",
       "      <td>100</td>\n",
       "      <td>0.0</td>\n",
       "      <td>0.0</td>\n",
       "      <td>0.0</td>\n",
       "      <td>0.0</td>\n",
       "      <td>0.0</td>\n",
       "    </tr>\n",
       "    <tr>\n",
       "      <td>2</td>\n",
       "      <td>1000</td>\n",
       "      <td>4.4</td>\n",
       "      <td>0.0</td>\n",
       "      <td>0.0</td>\n",
       "      <td>1.0</td>\n",
       "      <td>1.2</td>\n",
       "    </tr>\n",
       "    <tr>\n",
       "      <td>3</td>\n",
       "      <td>1500</td>\n",
       "      <td>9.6</td>\n",
       "      <td>0.0</td>\n",
       "      <td>0.0</td>\n",
       "      <td>2.8</td>\n",
       "      <td>3.6</td>\n",
       "    </tr>\n",
       "    <tr>\n",
       "      <td>4</td>\n",
       "      <td>2000</td>\n",
       "      <td>17.0</td>\n",
       "      <td>0.0</td>\n",
       "      <td>1.0</td>\n",
       "      <td>3.0</td>\n",
       "      <td>3.0</td>\n",
       "    </tr>\n",
       "    <tr>\n",
       "      <td>5</td>\n",
       "      <td>2500</td>\n",
       "      <td>25.2</td>\n",
       "      <td>0.0</td>\n",
       "      <td>1.0</td>\n",
       "      <td>4.0</td>\n",
       "      <td>4.0</td>\n",
       "    </tr>\n",
       "    <tr>\n",
       "      <td>6</td>\n",
       "      <td>4000</td>\n",
       "      <td>63.8</td>\n",
       "      <td>0.0</td>\n",
       "      <td>2.0</td>\n",
       "      <td>6.0</td>\n",
       "      <td>6.2</td>\n",
       "    </tr>\n",
       "    <tr>\n",
       "      <td>7</td>\n",
       "      <td>4500</td>\n",
       "      <td>81.0</td>\n",
       "      <td>1.0</td>\n",
       "      <td>2.0</td>\n",
       "      <td>7.0</td>\n",
       "      <td>7.0</td>\n",
       "    </tr>\n",
       "    <tr>\n",
       "      <td>8</td>\n",
       "      <td>5000</td>\n",
       "      <td>101.0</td>\n",
       "      <td>1.0</td>\n",
       "      <td>3.8</td>\n",
       "      <td>10.0</td>\n",
       "      <td>9.6</td>\n",
       "    </tr>\n",
       "    <tr>\n",
       "      <td>9</td>\n",
       "      <td>7500</td>\n",
       "      <td>225.8</td>\n",
       "      <td>1.0</td>\n",
       "      <td>5.0</td>\n",
       "      <td>12.2</td>\n",
       "      <td>14.2</td>\n",
       "    </tr>\n",
       "    <tr>\n",
       "      <td>10</td>\n",
       "      <td>10000</td>\n",
       "      <td>397.0</td>\n",
       "      <td>2.0</td>\n",
       "      <td>6.6</td>\n",
       "      <td>16.8</td>\n",
       "      <td>16.0</td>\n",
       "    </tr>\n",
       "    <tr>\n",
       "      <td>11</td>\n",
       "      <td>12500</td>\n",
       "      <td>622.0</td>\n",
       "      <td>3.0</td>\n",
       "      <td>9.8</td>\n",
       "      <td>20.0</td>\n",
       "      <td>20.0</td>\n",
       "    </tr>\n",
       "    <tr>\n",
       "      <td>12</td>\n",
       "      <td>15000</td>\n",
       "      <td>890.2</td>\n",
       "      <td>3.0</td>\n",
       "      <td>10.6</td>\n",
       "      <td>24.0</td>\n",
       "      <td>24.4</td>\n",
       "    </tr>\n",
       "    <tr>\n",
       "      <td>13</td>\n",
       "      <td>20000</td>\n",
       "      <td>1593.2</td>\n",
       "      <td>5.4</td>\n",
       "      <td>14.8</td>\n",
       "      <td>31.4</td>\n",
       "      <td>31.2</td>\n",
       "    </tr>\n",
       "    <tr>\n",
       "      <td>14</td>\n",
       "      <td>25000</td>\n",
       "      <td>2516.8</td>\n",
       "      <td>6.0</td>\n",
       "      <td>19.0</td>\n",
       "      <td>39.2</td>\n",
       "      <td>40.4</td>\n",
       "    </tr>\n",
       "    <tr>\n",
       "      <td>15</td>\n",
       "      <td>30000</td>\n",
       "      <td>3597.0</td>\n",
       "      <td>7.0</td>\n",
       "      <td>22.8</td>\n",
       "      <td>46.8</td>\n",
       "      <td>47.0</td>\n",
       "    </tr>\n",
       "    <tr>\n",
       "      <td>16</td>\n",
       "      <td>35000</td>\n",
       "      <td>4883.8</td>\n",
       "      <td>8.2</td>\n",
       "      <td>27.2</td>\n",
       "      <td>56.2</td>\n",
       "      <td>58.2</td>\n",
       "    </tr>\n",
       "    <tr>\n",
       "      <td>17</td>\n",
       "      <td>40000</td>\n",
       "      <td>6369.6</td>\n",
       "      <td>10.0</td>\n",
       "      <td>32.4</td>\n",
       "      <td>61.8</td>\n",
       "      <td>62.0</td>\n",
       "    </tr>\n",
       "    <tr>\n",
       "      <td>18</td>\n",
       "      <td>45000</td>\n",
       "      <td>8073.0</td>\n",
       "      <td>11.6</td>\n",
       "      <td>36.2</td>\n",
       "      <td>70.2</td>\n",
       "      <td>70.2</td>\n",
       "    </tr>\n",
       "    <tr>\n",
       "      <td>19</td>\n",
       "      <td>50000</td>\n",
       "      <td>9918.4</td>\n",
       "      <td>12.6</td>\n",
       "      <td>42.2</td>\n",
       "      <td>78.2</td>\n",
       "      <td>78.6</td>\n",
       "    </tr>\n",
       "  </tbody>\n",
       "</table>\n",
       "</div>"
      ],
      "text/plain": [
       "    NumElements  Insertion Sort  Merge Sort  Heap Sort  Quick Sort In Place  \\\n",
       "0            10             0.0         0.0        0.4                  0.0   \n",
       "1           100             0.0         0.0        0.0                  0.0   \n",
       "2          1000             4.4         0.0        0.0                  1.0   \n",
       "3          1500             9.6         0.0        0.0                  2.8   \n",
       "4          2000            17.0         0.0        1.0                  3.0   \n",
       "5          2500            25.2         0.0        1.0                  4.0   \n",
       "6          4000            63.8         0.0        2.0                  6.0   \n",
       "7          4500            81.0         1.0        2.0                  7.0   \n",
       "8          5000           101.0         1.0        3.8                 10.0   \n",
       "9          7500           225.8         1.0        5.0                 12.2   \n",
       "10        10000           397.0         2.0        6.6                 16.8   \n",
       "11        12500           622.0         3.0        9.8                 20.0   \n",
       "12        15000           890.2         3.0       10.6                 24.0   \n",
       "13        20000          1593.2         5.4       14.8                 31.4   \n",
       "14        25000          2516.8         6.0       19.0                 39.2   \n",
       "15        30000          3597.0         7.0       22.8                 46.8   \n",
       "16        35000          4883.8         8.2       27.2                 56.2   \n",
       "17        40000          6369.6        10.0       32.4                 61.8   \n",
       "18        45000          8073.0        11.6       36.2                 70.2   \n",
       "19        50000          9918.4        12.6       42.2                 78.2   \n",
       "\n",
       "    Quick Sort Modified  \n",
       "0                   0.0  \n",
       "1                   0.0  \n",
       "2                   1.2  \n",
       "3                   3.6  \n",
       "4                   3.0  \n",
       "5                   4.0  \n",
       "6                   6.2  \n",
       "7                   7.0  \n",
       "8                   9.6  \n",
       "9                  14.2  \n",
       "10                 16.0  \n",
       "11                 20.0  \n",
       "12                 24.4  \n",
       "13                 31.2  \n",
       "14                 40.4  \n",
       "15                 47.0  \n",
       "16                 58.2  \n",
       "17                 62.0  \n",
       "18                 70.2  \n",
       "19                 78.6  "
      ]
     },
     "execution_count": 55,
     "metadata": {},
     "output_type": "execute_result"
    }
   ],
   "source": [
    "data_avg.head(20)"
   ]
  },
  {
   "cell_type": "code",
   "execution_count": 67,
   "metadata": {},
   "outputs": [
    {
     "data": {
      "text/html": [
       "<div>\n",
       "<style scoped>\n",
       "    .dataframe tbody tr th:only-of-type {\n",
       "        vertical-align: middle;\n",
       "    }\n",
       "\n",
       "    .dataframe tbody tr th {\n",
       "        vertical-align: top;\n",
       "    }\n",
       "\n",
       "    .dataframe thead th {\n",
       "        text-align: right;\n",
       "    }\n",
       "</style>\n",
       "<table border=\"1\" class=\"dataframe\">\n",
       "  <thead>\n",
       "    <tr style=\"text-align: right;\">\n",
       "      <th></th>\n",
       "      <th>Number of Elements</th>\n",
       "      <th>Average Time (ms)</th>\n",
       "      <th>Sort</th>\n",
       "    </tr>\n",
       "  </thead>\n",
       "  <tbody>\n",
       "    <tr>\n",
       "      <td>0</td>\n",
       "      <td>10</td>\n",
       "      <td>0.0</td>\n",
       "      <td>Insertion Sort</td>\n",
       "    </tr>\n",
       "    <tr>\n",
       "      <td>1</td>\n",
       "      <td>100</td>\n",
       "      <td>0.0</td>\n",
       "      <td>Insertion Sort</td>\n",
       "    </tr>\n",
       "    <tr>\n",
       "      <td>2</td>\n",
       "      <td>1000</td>\n",
       "      <td>4.4</td>\n",
       "      <td>Insertion Sort</td>\n",
       "    </tr>\n",
       "    <tr>\n",
       "      <td>3</td>\n",
       "      <td>1500</td>\n",
       "      <td>9.6</td>\n",
       "      <td>Insertion Sort</td>\n",
       "    </tr>\n",
       "    <tr>\n",
       "      <td>4</td>\n",
       "      <td>2000</td>\n",
       "      <td>17.0</td>\n",
       "      <td>Insertion Sort</td>\n",
       "    </tr>\n",
       "    <tr>\n",
       "      <td>5</td>\n",
       "      <td>2500</td>\n",
       "      <td>25.2</td>\n",
       "      <td>Insertion Sort</td>\n",
       "    </tr>\n",
       "    <tr>\n",
       "      <td>6</td>\n",
       "      <td>4000</td>\n",
       "      <td>63.8</td>\n",
       "      <td>Insertion Sort</td>\n",
       "    </tr>\n",
       "    <tr>\n",
       "      <td>7</td>\n",
       "      <td>4500</td>\n",
       "      <td>81.0</td>\n",
       "      <td>Insertion Sort</td>\n",
       "    </tr>\n",
       "    <tr>\n",
       "      <td>8</td>\n",
       "      <td>5000</td>\n",
       "      <td>101.0</td>\n",
       "      <td>Insertion Sort</td>\n",
       "    </tr>\n",
       "    <tr>\n",
       "      <td>9</td>\n",
       "      <td>7500</td>\n",
       "      <td>225.8</td>\n",
       "      <td>Insertion Sort</td>\n",
       "    </tr>\n",
       "    <tr>\n",
       "      <td>10</td>\n",
       "      <td>10000</td>\n",
       "      <td>397.0</td>\n",
       "      <td>Insertion Sort</td>\n",
       "    </tr>\n",
       "    <tr>\n",
       "      <td>11</td>\n",
       "      <td>12500</td>\n",
       "      <td>622.0</td>\n",
       "      <td>Insertion Sort</td>\n",
       "    </tr>\n",
       "    <tr>\n",
       "      <td>12</td>\n",
       "      <td>15000</td>\n",
       "      <td>890.2</td>\n",
       "      <td>Insertion Sort</td>\n",
       "    </tr>\n",
       "    <tr>\n",
       "      <td>13</td>\n",
       "      <td>20000</td>\n",
       "      <td>1593.2</td>\n",
       "      <td>Insertion Sort</td>\n",
       "    </tr>\n",
       "    <tr>\n",
       "      <td>14</td>\n",
       "      <td>25000</td>\n",
       "      <td>2516.8</td>\n",
       "      <td>Insertion Sort</td>\n",
       "    </tr>\n",
       "    <tr>\n",
       "      <td>15</td>\n",
       "      <td>30000</td>\n",
       "      <td>3597.0</td>\n",
       "      <td>Insertion Sort</td>\n",
       "    </tr>\n",
       "    <tr>\n",
       "      <td>16</td>\n",
       "      <td>35000</td>\n",
       "      <td>4883.8</td>\n",
       "      <td>Insertion Sort</td>\n",
       "    </tr>\n",
       "    <tr>\n",
       "      <td>17</td>\n",
       "      <td>40000</td>\n",
       "      <td>6369.6</td>\n",
       "      <td>Insertion Sort</td>\n",
       "    </tr>\n",
       "    <tr>\n",
       "      <td>18</td>\n",
       "      <td>45000</td>\n",
       "      <td>8073.0</td>\n",
       "      <td>Insertion Sort</td>\n",
       "    </tr>\n",
       "    <tr>\n",
       "      <td>19</td>\n",
       "      <td>50000</td>\n",
       "      <td>9918.4</td>\n",
       "      <td>Insertion Sort</td>\n",
       "    </tr>\n",
       "    <tr>\n",
       "      <td>20</td>\n",
       "      <td>10</td>\n",
       "      <td>0.0</td>\n",
       "      <td>Merge Sort</td>\n",
       "    </tr>\n",
       "    <tr>\n",
       "      <td>21</td>\n",
       "      <td>100</td>\n",
       "      <td>0.0</td>\n",
       "      <td>Merge Sort</td>\n",
       "    </tr>\n",
       "    <tr>\n",
       "      <td>22</td>\n",
       "      <td>1000</td>\n",
       "      <td>0.0</td>\n",
       "      <td>Merge Sort</td>\n",
       "    </tr>\n",
       "    <tr>\n",
       "      <td>23</td>\n",
       "      <td>1500</td>\n",
       "      <td>0.0</td>\n",
       "      <td>Merge Sort</td>\n",
       "    </tr>\n",
       "    <tr>\n",
       "      <td>24</td>\n",
       "      <td>2000</td>\n",
       "      <td>0.0</td>\n",
       "      <td>Merge Sort</td>\n",
       "    </tr>\n",
       "  </tbody>\n",
       "</table>\n",
       "</div>"
      ],
      "text/plain": [
       "    Number of Elements  Average Time (ms)            Sort\n",
       "0                   10                0.0  Insertion Sort\n",
       "1                  100                0.0  Insertion Sort\n",
       "2                 1000                4.4  Insertion Sort\n",
       "3                 1500                9.6  Insertion Sort\n",
       "4                 2000               17.0  Insertion Sort\n",
       "5                 2500               25.2  Insertion Sort\n",
       "6                 4000               63.8  Insertion Sort\n",
       "7                 4500               81.0  Insertion Sort\n",
       "8                 5000              101.0  Insertion Sort\n",
       "9                 7500              225.8  Insertion Sort\n",
       "10               10000              397.0  Insertion Sort\n",
       "11               12500              622.0  Insertion Sort\n",
       "12               15000              890.2  Insertion Sort\n",
       "13               20000             1593.2  Insertion Sort\n",
       "14               25000             2516.8  Insertion Sort\n",
       "15               30000             3597.0  Insertion Sort\n",
       "16               35000             4883.8  Insertion Sort\n",
       "17               40000             6369.6  Insertion Sort\n",
       "18               45000             8073.0  Insertion Sort\n",
       "19               50000             9918.4  Insertion Sort\n",
       "20                  10                0.0      Merge Sort\n",
       "21                 100                0.0      Merge Sort\n",
       "22                1000                0.0      Merge Sort\n",
       "23                1500                0.0      Merge Sort\n",
       "24                2000                0.0      Merge Sort"
      ]
     },
     "execution_count": 67,
     "metadata": {},
     "output_type": "execute_result"
    }
   ],
   "source": [
    "data_for_vis = []\n",
    "for col in data_avg:\n",
    "    if col is not 'NumElements':\n",
    "        for index, val in enumerate(data_avg[col]):\n",
    "            data_for_vis.append([unique_num_elements[index], val, col])\n",
    "data_finalized = pd.DataFrame(data_for_vis, columns=['Number of Elements', 'Average Time (ms)', 'Sort'])\n",
    "data_finalized.head(25)"
   ]
  },
  {
   "cell_type": "code",
   "execution_count": 74,
   "metadata": {},
   "outputs": [
    {
     "data": {
      "text/plain": [
       "<matplotlib.axes._subplots.AxesSubplot at 0x5d9bb90>"
      ]
     },
     "execution_count": 74,
     "metadata": {},
     "output_type": "execute_result"
    },
    {
     "data": {
      "image/png": "[encoded data removed]",
      "text/plain": [
       "<Figure size 432x288 with 1 Axes>"
      ]
     },
     "metadata": {
      "needs_background": "light"
     },
     "output_type": "display_data"
    }
   ],
   "source": [
    "sns.lineplot(data=data_finalized, x='Number of Elements', y='Average Time (ms)', hue='Sort')"
   ]
  },
  {
   "cell_type": "code",
   "execution_count": 77,
   "metadata": {},
   "outputs": [],
   "source": [
    "data_no_insertion = data_finalized[data_finalized['Sort'] != 'Insertion Sort']"
   ]
  },
  {
   "cell_type": "code",
   "execution_count": 78,
   "metadata": {},
   "outputs": [
    {
     "data": {
      "text/plain": [
       "<matplotlib.axes._subplots.AxesSubplot at 0x5de8190>"
      ]
     },
     "execution_count": 78,
     "metadata": {},
     "output_type": "execute_result"
    },
    {
     "data": {
      "image/png": "[encoded data removed]",
      "text/plain": [
       "<Figure size 432x288 with 1 Axes>"
      ]
     },
     "metadata": {
      "needs_background": "light"
     },
     "output_type": "display_data"
    }
   ],
   "source": [
    "sns.lineplot(data=data_no_insertion, x='Number of Elements', y='Average Time (ms)', hue='Sort')"
   ]
  },
  {
   "cell_type": "code",
   "execution_count": 79,
   "metadata": {},
   "outputs": [],
   "source": [
    "data_less_than_ten_thousand = data_finalized[data_finalized['Number of Elements'] <= 10_000]"
   ]
  },
  {
   "cell_type": "code",
   "execution_count": 80,
   "metadata": {},
   "outputs": [
    {
     "data": {
      "text/plain": [
       "<matplotlib.axes._subplots.AxesSubplot at 0x5ddcfb0>"
      ]
     },
     "execution_count": 80,
     "metadata": {},
     "output_type": "execute_result"
    },
    {
     "data": {
      "image/png": "[encoded data removed]",
      "text/plain": [
       "<Figure size 432x288 with 1 Axes>"
      ]
     },
     "metadata": {
      "needs_background": "light"
     },
     "output_type": "display_data"
    }
   ],
   "source": [
    "sns.lineplot(data=data_less_than_ten_thousand, x='Number of Elements', y='Average Time (ms)', hue='Sort')"
   ]
  },
  {
   "cell_type": "code",
   "execution_count": 83,
   "metadata": {},
   "outputs": [],
   "source": [
    "data_less_than_twentyfive_thousand = data_finalized[data_finalized['Number of Elements'] <= 2500]"
   ]
  },
  {
   "cell_type": "code",
   "execution_count": 84,
   "metadata": {},
   "outputs": [
    {
     "data": {
      "text/plain": [
       "<matplotlib.axes._subplots.AxesSubplot at 0xf78f590>"
      ]
     },
     "execution_count": 84,
     "metadata": {},
     "output_type": "execute_result"
    },
    {
     "data": {
      "image/png": "[encoded data removed]",
      "text/plain": [
       "<Figure size 432x288 with 1 Axes>"
      ]
     },
     "metadata": {
      "needs_background": "light"
     },
     "output_type": "display_data"
    }
   ],
   "source": [
    "sns.lineplot(data=data_less_than_twentyfive_thousand, x='Number of Elements', y='Average Time (ms)', hue='Sort')"
   ]
  },
  {
   "cell_type": "code",
   "execution_count": 97,
   "metadata": {},
   "outputs": [],
   "source": [
    "def print_sort_chart(data, max_elements=50000):\n",
    "    unique_num_elements = data_raw['NumElements'].unique()\n",
    "    avg_data_rows = []\n",
    "    for u_elem in unique_num_elements:\n",
    "        data = [u_elem]\n",
    "        filtered_rows = data_raw[data_raw['NumElements'] == u_elem]\n",
    "        data.append(filtered_rows['InsertionSortTime'].mean())\n",
    "        data.append(filtered_rows['MergeSortTime'].mean())\n",
    "        data.append(filtered_rows['HeapSortTime'].mean())\n",
    "        data.append(filtered_rows['QuickSortInPlaceTime'].mean())\n",
    "        data.append(filtered_rows['QuickSortModifiedTime'].mean())\n",
    "        avg_data_rows.append(data)\n",
    "    data_avg = pd.DataFrame(avg_data_rows, columns=['NumElements', 'Insertion Sort', 'Merge Sort', 'Heap Sort', 'Quick Sort In Place', 'Quick Sort Modified'])\n",
    "    data_for_vis = []\n",
    "    for col in data_avg:\n",
    "        if col is not 'NumElements':\n",
    "            for index, val in enumerate(data_avg[col]):\n",
    "                data_for_vis.append([unique_num_elements[index], val, col])\n",
    "    data_finalized = pd.DataFrame(data_for_vis, columns=['Number of Elements', 'Average Time (ms)', 'Sort'])\n",
    "    data_for_vis = []\n",
    "    for col in data_avg:\n",
    "        if col is not 'NumElements':\n",
    "            for index, val in enumerate(data_avg[col]):\n",
    "                data_for_vis.append([unique_num_elements[index], val, col])\n",
    "    data_finalized = pd.DataFrame(data_for_vis, columns=['Number of Elements', 'Average Time (ms)', 'Sort'])\n",
    "    data_filtered = data_finalized[data_finalized['Number of Elements'] <= max_elements]\n",
    "    sns.lineplot(data=data_filtered, x='Number of Elements', y='Average Time (ms)', hue='Sort')"
   ]
  },
  {
   "cell_type": "code",
   "execution_count": 98,
   "metadata": {},
   "outputs": [],
   "source": [
    "data_raw = pd.read_csv('sorting_results.csv')"
   ]
  },
  {
   "cell_type": "code",
   "execution_count": 99,
   "metadata": {},
   "outputs": [
    {
     "data": {
      "image/png": "[encoded data removed]",
      "text/plain": [
       "<Figure size 432x288 with 1 Axes>"
      ]
     },
     "metadata": {
      "needs_background": "light"
     },
     "output_type": "display_data"
    }
   ],
   "source": [
    "print_sort_chart(data_raw)"
   ]
  },
  {
   "cell_type": "code",
   "execution_count": 101,
   "metadata": {},
   "outputs": [
    {
     "data": {
      "image/png": "[encoded data removed]",
      "text/plain": [
       "<Figure size 432x288 with 1 Axes>"
      ]
     },
     "metadata": {
      "needs_background": "light"
     },
     "output_type": "display_data"
    }
   ],
   "source": [
    "print_sort_chart(data_raw, 2500)"
   ]
  },
  {
   "cell_type": "code",
   "execution_count": null,
   "metadata": {},
   "outputs": [],
   "source": []
  }
 ],
 "metadata": {
  "kernelspec": {
   "display_name": "Python 3",
   "language": "python",
   "name": "python3"
  },
  "language_info": {
   "codemirror_mode": {
    "name": "ipython",
    "version": 3
   },
   "file_extension": ".py",
   "mimetype": "text/x-python",
   "name": "python",
   "nbconvert_exporter": "python",
   "pygments_lexer": "ipython3",
   "version": "3.7.4"
  }
 },
 "nbformat": 4,
 "nbformat_minor": 2
}
